{
 "metadata": {
  "language_info": {
   "codemirror_mode": {
    "name": "ipython",
    "version": 3
   },
   "file_extension": ".py",
   "mimetype": "text/x-python",
   "name": "python",
   "nbconvert_exporter": "python",
   "pygments_lexer": "ipython3",
   "version": "3.8.5"
  },
  "orig_nbformat": 4,
  "kernelspec": {
   "name": "python3",
   "display_name": "Python 3.8.5 64-bit ('base': conda)"
  },
  "interpreter": {
   "hash": "c37138347a1ab86eb255119a0418303a1a7fec75cce3c89b6b61fa06514bcc0f"
  }
 },
 "nbformat": 4,
 "nbformat_minor": 2,
 "cells": [
  {
   "source": [
    "# Symmetry and Dimensionality Reduction\n"
   ],
   "cell_type": "markdown",
   "metadata": {}
  },
  {
   "source": [
    "Recently I published a [preprint](https://cepr.org/active/publications/discussion_papers/dp.php?dpno=16285)  that uses symmetry to reduce the dimensionality of dynamic programming problems. When I asked some of my friends for comments they asked for an intuitive explanation of why symmetry can lead to dimensinality reduction. In this blog post I try to provide a simple example to illustrate this point."
   ],
   "cell_type": "markdown",
   "metadata": {}
  },
  {
   "source": [
    "Use the following to force HTMl show\n",
    "\n",
    "http://htmlpreview.github.com/?https://github.com/Mekahou/mekahou.github.io/blob/master/docs/Webpage/Content/test.html"
   ],
   "cell_type": "markdown",
   "metadata": {}
  }
 ]
}